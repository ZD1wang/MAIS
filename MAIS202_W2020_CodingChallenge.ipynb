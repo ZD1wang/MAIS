{
  "nbformat": 4,
  "nbformat_minor": 0,
  "metadata": {
    "colab": {
      "name": "MAIS202_W2020_CodingChallenge.ipynb",
      "provenance": [],
      "collapsed_sections": [],
      "include_colab_link": true
    },
    "kernelspec": {
      "name": "python3",
      "display_name": "Python 3"
    }
  },
  "cells": [
    {
      "cell_type": "markdown",
      "metadata": {
        "id": "view-in-github",
        "colab_type": "text"
      },
      "source": [
        "<a href=\"https://colab.research.google.com/github/ZD1wang/MAIS/blob/master/MAIS202_W2020_CodingChallenge.ipynb\" target=\"_parent\"><img src=\"https://colab.research.google.com/assets/colab-badge.svg\" alt=\"Open In Colab\"/></a>"
      ]
    },
    {
      "cell_type": "markdown",
      "metadata": {
        "id": "BrOU6Q5yLB7l",
        "colab_type": "text"
      },
      "source": [
        "# MAIS 202 Winter 2020 Coding Challenge"
      ]
    },
    {
      "cell_type": "markdown",
      "metadata": {
        "id": "GWmXA7Y2CpXm",
        "colab_type": "text"
      },
      "source": [
        "[Application](http://tiny.cc/mais202-w2020-app)\n",
        "\n",
        "[Course Syllabus](http://tiny.cc/mais202-w2020-syllabus)"
      ]
    },
    {
      "cell_type": "markdown",
      "metadata": {
        "id": "ndY3n2f3GDGU",
        "colab_type": "text"
      },
      "source": [
        "## Instructions\n",
        " Make a copy of this notebook into your personal google drive account.\n",
        "Make sure to make this notebook public by 11:59 pm, Janurary 7th, 2020 in order to be evaluated.\n",
        "If you have any questions regarding this challenge, please reach out to us through our [Facebook Page](https://www.facebook.com/McGillAI/)."
      ]
    },
    {
      "cell_type": "markdown",
      "metadata": {
        "id": "j6hnKFVl_q1Y",
        "colab_type": "text"
      },
      "source": [
        "## Questions\n",
        "* [Part 1](#scrollTo=QYskRrWJEwZH)\n",
        "* [Part 2 Task 1](#scrollTo=yl9IKD31K-J0)\n",
        "* [Part 2 Task 2](#scrollTo=t_xY3228qPmP)"
      ]
    },
    {
      "cell_type": "markdown",
      "metadata": {
        "id": "ihcWx8XBBrpY",
        "colab_type": "text"
      },
      "source": [
        "## Part 1"
      ]
    },
    {
      "cell_type": "markdown",
      "metadata": {
        "id": "nq51RVvoBtUc",
        "colab_type": "text"
      },
      "source": [
        "This part asks you to analyze a dataset using libraries.\n",
        "To learn more about movies grosses, we have provided you with two csv's: `movies_data.csv` and `genre_data.csv`.\n",
        "The urls to the files are\n",
        "```\n",
        "https://raw.githubusercontent.com/kayguxe/MF/master/genre_data.csv\n",
        "```\n",
        "and\n",
        "```\n",
        "https://raw.githubusercontent.com/kayguxe/MF/master/movies_data.csv\n",
        "```\n",
        "The file `movies_data.csv` contains information about movies such as their title, imdb rating, length, rank, rating, studio, worldwide gross, and year in a comma seperated format as shown below.\n",
        "![CSV example 1](https://user-images.githubusercontent.com/10730760/71313653-b9478880-2409-11ea-8745-a58909dcbd0f.png)\n",
        "\n",
        "The file `genre_data.csv` contains the genre for each movie in the `movies_data.csv` file, as shown below.\n",
        "![CSV example 2](https://user-images.githubusercontent.com/10730760/71313662-d3816680-2409-11ea-94c7-6795663ef8e3.png)\n",
        "\n",
        "Your challenge is as follows:\n",
        "\n",
        "1. In the provided cell, load the datasets from their urls, parse the information and determine the average worldwide gross for each of the genres using the **pandas** library. https://pandas.pydata.org/.\n",
        "2. Plot the results onto a graph using the **matplotlib** library. https://matplotlib.org/.\n",
        "\n",
        "**Note.** You are not allowed to use other libraries, and you are required to write all the code in the following cell. You are also not allowed to run bash commands. You must use the libraries we ask you to use.\n",
        "\n"
      ]
    },
    {
      "cell_type": "code",
      "metadata": {
        "id": "QYskRrWJEwZH",
        "colab_type": "code",
        "outputId": "6c04e173-3192-468b-e13d-69d9681bf252",
        "colab": {
          "base_uri": "https://localhost:8080/",
          "height": 432
        }
      },
      "source": [
        "import pandas as pd\n",
        "import matplotlib.pyplot as plt\n",
        "\n",
        "#read csv files\n",
        "genre_data = pd.read_csv('https://raw.githubusercontent.com/kayguxe/MF/master/genre_data.csv')\n",
        "movies_data = pd.read_csv('https://raw.githubusercontent.com/kayguxe/MF/master/movies_data.csv', usecols=[0,6])\n",
        "\n",
        "#organise dataframes\n",
        "movies_data.worldwide_gross = movies_data.worldwide_gross.str.replace('\\$|,','')\n",
        "movies_data.worldwide_gross = pd.to_numeric(movies_data.worldwide_gross)\n",
        "merged = pd.merge(genre_data, movies_data, how='left', on='title')\n",
        "df = merged.loc[:,['Main_Genre','worldwide_gross']]\n",
        "\n",
        "#get the average worldwide gross for each genre\n",
        "avg_worldwide_gross = merged.groupby(['Main_Genre'], as_index=False).mean()\n",
        "print(avg_worldwide_gross)\n",
        "\n",
        "#plot results onto a bar graph with x and y labels\n",
        "ax = avg_worldwide_gross.plot(x = 'Main_Genre', y = 'worldwide_gross', kind='bar', title='Average worldwide gross', legend=False, rot=0)\t\n",
        "ax.set_xlabel('Main_Genre')\n",
        "ax.set_ylabel('worldwide gross')\n",
        "plt.show()"
      ],
      "execution_count": 0,
      "outputs": [
        {
          "output_type": "stream",
          "text": [
            "  Main_Genre  worldwide_gross\n",
            "0     Action     4.032829e+08\n",
            "1  Animation     3.790071e+08\n",
            "2    Fantasy     8.568844e+08\n",
            "3     Horror     3.274817e+08\n",
            "4      Music     3.518679e+08\n",
            "5    Romance     2.011514e+08\n",
            "6     Sci-Fi     7.115287e+08\n"
          ],
          "name": "stdout"
        },
        {
          "output_type": "display_data",
          "data": {
            "image/png": "[encoded data removed]",
            "text/plain": [
              "<Figure size 432x288 with 1 Axes>"
            ]
          },
          "metadata": {
            "tags": []
          }
        }
      ]
    },
    {
      "cell_type": "markdown",
      "metadata": {
        "id": "OJ9JDKpBFjMP",
        "colab_type": "text"
      },
      "source": [
        "The output of the cell should be similar to the results shown below.\n",
        "![results1](https://user-images.githubusercontent.com/10730760/71313669-e72ccd00-2409-11ea-9abe-599df7c4d36d.png)\n",
        "![results2](https://user-images.githubusercontent.com/10730760/71313671-f01d9e80-2409-11ea-8582-068cf4371e10.png)"
      ]
    },
    {
      "cell_type": "markdown",
      "metadata": {
        "id": "-VmgvHMbLJtD",
        "colab_type": "text"
      },
      "source": [
        "## Part 2"
      ]
    },
    {
      "cell_type": "markdown",
      "metadata": {
        "id": "XmKUKjJZnQJm",
        "colab_type": "text"
      },
      "source": [
        "For the second half of the coding challenge, you are not allowed to use libraries.\n",
        "More specifically, you are not allowed to use imported code from the standard library nor from external libraries."
      ]
    },
    {
      "cell_type": "markdown",
      "metadata": {
        "id": "hNjqnOCknIOM",
        "colab_type": "text"
      },
      "source": [
        "### First Task"
      ]
    },
    {
      "cell_type": "markdown",
      "metadata": {
        "id": "wL4DFYslLPgM",
        "colab_type": "text"
      },
      "source": [
        "Your first task is to write a helper function `to_grade_point` which converts a grade out of 100 into a `tuple` whose first entry is a string representing the letter grade and whose second entry is a float representing the Grade Points.\n",
        "\n",
        "\n",
        "![Letter Grade Table](https://i.ibb.co/WnvbXL1/table.png)\n",
        "\n",
        "\n",
        "**Note.** Inputs are assumed to be valid. That is, inputs will be integers from 0 to 100 inclusive."
      ]
    },
    {
      "cell_type": "code",
      "metadata": {
        "id": "yl9IKD31K-J0",
        "colab_type": "code",
        "colab": {}
      },
      "source": [
        "def to_grade_point(grade):\n",
        "  if grade < 60:\n",
        "    return (\"F\", 0.0)\n",
        "  elif grade < 65:\n",
        "    return (\"C+\", 2.3)\n",
        "  elif grade < 70:\n",
        "    return (\"B-\", 2.7)\n",
        "  elif grade < 75:\n",
        "    return (\"B\", 3.0)\n",
        "  elif grade < 80:\n",
        "    return (\"B+\", 3.3)\n",
        "  elif grade < 85:\n",
        "    return (\"A-\", 3.7)\n",
        "  else:\n",
        "    return (\"A\", 4.0)\n",
        "  "
      ],
      "execution_count": 0,
      "outputs": []
    },
    {
      "cell_type": "markdown",
      "metadata": {
        "id": "zYwXZLWQiSp4",
        "colab_type": "text"
      },
      "source": [
        "You can test your code with the following snippet.\n",
        "If your code is correct, you should see\n",
        "\n",
        "![Example Code 1](https://i.ibb.co/4F9mP9Y/code1.png)"
      ]
    },
    {
      "cell_type": "code",
      "metadata": {
        "id": "MpZEmQ6WiPNY",
        "colab_type": "code",
        "outputId": "ee16be6d-bafd-4097-9924-5c6f8f4d2790",
        "colab": {
          "base_uri": "https://localhost:8080/",
          "height": 153
        }
      },
      "source": [
        "for grade in [0, 99, 80, 85, 84, 60, 59, 74]:\n",
        "  print(\"{} -> {}\".format(grade, to_grade_point(grade)))"
      ],
      "execution_count": 0,
      "outputs": [
        {
          "output_type": "stream",
          "text": [
            "0 -> ('F', 0.0)\n",
            "99 -> ('A', 4.0)\n",
            "80 -> ('A-', 3.7)\n",
            "85 -> ('A', 4.0)\n",
            "84 -> ('A-', 3.7)\n",
            "60 -> ('C+', 2.3)\n",
            "59 -> ('F', 0.0)\n",
            "74 -> ('B', 3.0)\n"
          ],
          "name": "stdout"
        }
      ]
    },
    {
      "cell_type": "markdown",
      "metadata": {
        "id": "4h1sMQu_nk6a",
        "colab_type": "text"
      },
      "source": [
        "### Second Task"
      ]
    },
    {
      "cell_type": "markdown",
      "metadata": {
        "id": "HE0IwJBNnrbG",
        "colab_type": "text"
      },
      "source": [
        "Your second task is to write a class named `GradeRecords` with a certain specification.\n",
        "This part will use the helper function defined in the first part so make sure to do that first.\n",
        "\n",
        "A `GradeRecords` object has the following attributes:\n",
        "* `term`, a string representing the current semester;\n",
        "* `grades`, a `list` object containing `tuples`, where the first entry of each tuple is a string representing the code of the class, the second entry of each tuple is the grade out of 100, and the third entry is the number of credits for this course. `grades` can be initialized (see below) as an empty list.\n",
        "* `num_courses` an `int` which contains the number of courses in the record. This can be initialized as 0.\n",
        "\n",
        "\n",
        "**Note.** You are not allowed to add more attributes.\n",
        "\n",
        "Furthermore, a `GradeRecords` object has the following methods:\n",
        "* an initialization method which takes as input the current term and initializes the three attributes;\n",
        "* `add_course`, a method which takes a string representing the course code, an int for the grade out of 100 and the number of credits. The method adds a new tuple to `grades`.\n",
        "* `get_best_courses`, a method which takes no parameters and outputs a list of course codes with the best grades. For instance, if the best grade is a 'B', it will output all course codes with a 'B', i.e. all courses codes with a grade between 70 and 74 (inclusive). You are required to use the helper function defined in the first part.\n",
        "* `get_GPA`, a method which outputs the Grade Point Average for the semester, assuming all classes all weighted by the number of credits. You are required to use the helper function from the first task. Round it to one decimal place.\n",
        "* `to_dict`, a method which returns a dict whose keys are the class codes and whose corresponding values are the letter grades. Once again, you must use the helper function from the first task.\n",
        "\n",
        "**Note.** All inputs are assumed to be valid. Particularly, you may assume there won't be duplicate class codes."
      ]
    },
    {
      "cell_type": "code",
      "metadata": {
        "id": "t_xY3228qPmP",
        "colab_type": "code",
        "colab": {}
      },
      "source": [
        "class GradeRecords:\n",
        "  def __init__(self,term):\n",
        "    self.term = term\n",
        "    self.grades = list()\n",
        "    self.num_courses = 0\n",
        "    return\n",
        "\n",
        "  def add_course(self, course_code, grade, number_of_credits):\n",
        "    self.grades.append((course_code, grade, number_of_credits))\n",
        "    self.num_courses += 1\n",
        "    return\n",
        "\n",
        "  def get_best_courses(self):\n",
        "    best_course = list()\n",
        "    num = 0\n",
        "    for grade in self.grades:\n",
        "      if grade[1] > num:\n",
        "        num = grade[1]\n",
        "    \n",
        "    best = to_grade_point(grade[1])[0]\n",
        "    for grade in self.grades:\n",
        "      if to_grade_point(grade[1])[0] == best:\n",
        "        best_course.append(grade[0])\n",
        "    return best_course\n",
        "\n",
        "  def get_GPA(self):\n",
        "    gpa = 0\n",
        "    credit = 0\n",
        "    for grade in self.grades:\n",
        "      gpa += to_grade_point(grade[1])[1]*grade[2]\n",
        "      credit += grade[2]\n",
        "    return (round(gpa/credit,1))\n",
        "\n",
        "  def to_dict(self):\n",
        "    dictionnary = dict()\n",
        "    for grade in self.grades:\n",
        "      dictionnary[grade[0]] = to_grade_point(grade[1])[0]\n",
        "    return dictionnary\n"
      ],
      "execution_count": 0,
      "outputs": []
    },
    {
      "cell_type": "markdown",
      "metadata": {
        "id": "CHoqh6O6qP6F",
        "colab_type": "text"
      },
      "source": [
        "You can test your code with the following snippet. If your code is correct you should see\n",
        "\n",
        "![code example 2](https://i.ibb.co/xCPCWyy/code2.png)"
      ]
    },
    {
      "cell_type": "code",
      "metadata": {
        "id": "AUcO4WNB7mDa",
        "colab_type": "code",
        "outputId": "41afbb25-650c-45e4-df93-bede1888c34f",
        "colab": {
          "base_uri": "https://localhost:8080/",
          "height": 238
        }
      },
      "source": [
        "gr = GradeRecords(\"Fall 2019\")\n",
        "print(\"First batch\")\n",
        "print(\"Term: {}\".format(gr.term))\n",
        "\n",
        "gr.add_course(\"COMP 202\", 83, 3)\n",
        "gr.add_course(\"CLAS 203\", 75, 3)\n",
        "gr.add_course(\"LING 360\", 81, 3)\n",
        "\n",
        "print(\"Number of courses: {}\".format(gr.num_courses))\n",
        "print(\"Best courses: {}\".format(gr.get_best_courses()))\n",
        "print(\"GPA: {}\".format(gr.get_GPA()))\n",
        "print(\"Dictionary: {}\".format(gr.to_dict()))\n",
        "\n",
        "print() \n",
        "\n",
        "print(\"Second batch\")\n",
        "print(\"Term: {}\".format(gr.term))\n",
        "\n",
        "gr.add_course(\"COMP 551\", 67, 4)\n",
        "gr.add_course(\"HIST 318\", 88, 3)\n",
        "\n",
        "print(\"Number of courses: {}\".format(gr.num_courses))\n",
        "print(\"Best courses: {}\".format(gr.get_best_courses()))\n",
        "print(\"GPA: {}\".format(gr.get_GPA()))\n",
        "print(\"Dictionary: {}\".format(gr.to_dict()))"
      ],
      "execution_count": 0,
      "outputs": [
        {
          "output_type": "stream",
          "text": [
            "First batch\n",
            "Term: Fall 2019\n",
            "Number of courses: 3\n",
            "Best courses: ['COMP 202', 'LING 360']\n",
            "GPA: 3.6\n",
            "Dictionary: {'COMP 202': 'A-', 'CLAS 203': 'B+', 'LING 360': 'A-'}\n",
            "\n",
            "Second batch\n",
            "Term: Fall 2019\n",
            "Number of courses: 5\n",
            "Best courses: ['HIST 318']\n",
            "GPA: 3.4\n",
            "Dictionary: {'COMP 202': 'A-', 'CLAS 203': 'B+', 'LING 360': 'A-', 'COMP 551': 'B-', 'HIST 318': 'A'}\n"
          ],
          "name": "stdout"
        }
      ]
    }
  ]
}